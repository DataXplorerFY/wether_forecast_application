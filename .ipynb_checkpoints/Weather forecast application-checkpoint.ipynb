{
 "cells": [
  {
   "cell_type": "code",
   "execution_count": 8,
   "id": "bf06ff54",
   "metadata": {},
   "outputs": [],
   "source": [
    "\n",
    "import requests\n"
   ]
  },
  {
   "cell_type": "code",
   "execution_count": 2,
   "id": "209d1317",
   "metadata": {},
   "outputs": [],
   "source": [
    "API_KEY = \"your_api_key_here\"\n",
    "BASE_URL = \"https://api.openweathermap.org/data/2.5/weather\"\n"
   ]
  },
  {
   "cell_type": "code",
   "execution_count": 3,
   "id": "4f7025d0",
   "metadata": {},
   "outputs": [],
   "source": [
    "def get_weather_forecast(location):\n",
    "    params = {\n",
    "        \"q\": location,\n",
    "        \"appid\": API_KEY,\n",
    "        \"units\": \"metric\"  # Use Celsius for temperature\n",
    "    }\n",
    "    response = requests.get(BASE_URL, params=params)\n",
    "    weather_data = response.json()\n",
    "    return weather_data\n"
   ]
  },
  {
   "cell_type": "code",
   "execution_count": 4,
   "id": "8a5d0744",
   "metadata": {},
   "outputs": [
    {
     "name": "stdout",
     "output_type": "stream",
     "text": [
      "Enter a location: lahore\n"
     ]
    }
   ],
   "source": [
    "location = input(\"Enter a location: \")\n"
   ]
  },
  {
   "cell_type": "code",
   "execution_count": 6,
   "id": "1691aa43",
   "metadata": {},
   "outputs": [
    {
     "name": "stdout",
     "output_type": "stream",
     "text": [
      "Weather data not available.\n"
     ]
    }
   ],
   "source": [
    "weather_data = get_weather_forecast(location)\n",
    "\n",
    "if \"cod\" in weather_data and weather_data[\"cod\"] == \"404\":\n",
    "    print(\"Location not found.\")\n",
    "elif \"weather\" not in weather_data or \"main\" not in weather_data or \"humidity\" not in weather_data:\n",
    "    print(\"Weather data not available.\")\n",
    "else:\n",
    "    description = weather_data[\"weather\"][0][\"description\"]\n",
    "    temperature = weather_data[\"main\"][\"temp\"]\n",
    "    humidity = weather_data[\"main\"][\"humidity\"]\n",
    "    print(f\"Weather forecast for {location}:\")\n",
    "    print(f\"Description: {description}\")\n",
    "    print(f\"Temperature: {temperature}°C\")\n",
    "    print(f\"Humidity: {humidity}%\")\n"
   ]
  },
  {
   "cell_type": "code",
   "execution_count": null,
   "id": "40ef656a",
   "metadata": {},
   "outputs": [],
   "source": []
  }
 ],
 "metadata": {
  "kernelspec": {
   "display_name": "Python 3 (ipykernel)",
   "language": "python",
   "name": "python3"
  },
  "language_info": {
   "codemirror_mode": {
    "name": "ipython",
    "version": 3
   },
   "file_extension": ".py",
   "mimetype": "text/x-python",
   "name": "python",
   "nbconvert_exporter": "python",
   "pygments_lexer": "ipython3",
   "version": "3.9.7"
  }
 },
 "nbformat": 4,
 "nbformat_minor": 5
}
